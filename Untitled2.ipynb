{
 "cells": [
  {
   "cell_type": "code",
   "execution_count": 1,
   "id": "f9be2183",
   "metadata": {},
   "outputs": [
    {
     "name": "stdout",
     "output_type": "stream",
     "text": [
      "Enter vehicle type (car, truck, plane, boat, broomstick): car\n",
      "Enter year: 2020\n",
      "Enter make: audi\n",
      "Enter model: coupe\n",
      "Enter number of doors (2 or 4): 2\n",
      "Enter type of roof (solid or sun roof): sun roof\n",
      "Vehicle type: car\n",
      "Year: 2020\n",
      "Make: audi\n",
      "Model: coupe\n",
      "Number of doors: 2\n",
      "Type of roof: sun roof\n"
     ]
    }
   ],
   "source": [
    "class Vehicle:\n",
    "    def __init__(self, vehicle_type):\n",
    "        self.vehicle_type = vehicle_type\n",
    "\n",
    "class Automobile(Vehicle):\n",
    "    def __init__(self, vehicle_type, year, make, model, doors, roof):\n",
    "        super().__init__(vehicle_type)\n",
    "        self.year = year\n",
    "        self.make = make\n",
    "        self.model = model\n",
    "        self.doors = doors\n",
    "        self.roof = roof\n",
    "\n",
    "    def __str__(self):\n",
    "        return f\"Vehicle type: {self.vehicle_type}\\n\" \\\n",
    "               f\"Year: {self.year}\\n\" \\\n",
    "               f\"Make: {self.make}\\n\" \\\n",
    "               f\"Model: {self.model}\\n\" \\\n",
    "               f\"Number of doors: {self.doors}\\n\" \\\n",
    "               f\"Type of roof: {self.roof}\"\n",
    "\n",
    "vehicle_type = input(\"Enter vehicle type (car, truck, plane, boat, broomstick): \")\n",
    "year = int(input(\"Enter year: \"))\n",
    "make = input(\"Enter make: \")\n",
    "model = input(\"Enter model: \")\n",
    "doors = int(input(\"Enter number of doors (2 or 4): \"))\n",
    "roof = input(\"Enter type of roof (solid or sun roof): \")\n",
    "\n",
    "car = Automobile(vehicle_type, year, make, model, doors, roof)\n",
    "print(car)"
   ]
  },
  {
   "cell_type": "code",
   "execution_count": null,
   "id": "a98bcc04",
   "metadata": {},
   "outputs": [],
   "source": []
  }
 ],
 "metadata": {
  "kernelspec": {
   "display_name": "Python 3 (ipykernel)",
   "language": "python",
   "name": "python3"
  },
  "language_info": {
   "codemirror_mode": {
    "name": "ipython",
    "version": 3
   },
   "file_extension": ".py",
   "mimetype": "text/x-python",
   "name": "python",
   "nbconvert_exporter": "python",
   "pygments_lexer": "ipython3",
   "version": "3.10.9"
  }
 },
 "nbformat": 4,
 "nbformat_minor": 5
}
